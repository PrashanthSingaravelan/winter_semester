{
 "cells": [
  {
   "cell_type": "markdown",
   "metadata": {},
   "source": [
    "### SINGLE PARITY"
   ]
  },
  {
   "cell_type": "code",
   "execution_count": 1,
   "metadata": {},
   "outputs": [],
   "source": [
    "def Even_parity_send(orig_data):    \n",
    "    o = orig_data.count(\"1\")     #count the no of 1s\n",
    "    if(o%2 != 0):                #if odd append 1\n",
    "        return orig_data + \"1\"\n",
    "    else:                        #if even append 0\n",
    "        return orig_data + \"0\"\n",
    "    \n",
    "def Even_parity_recieve(recieved_data):\n",
    "    o = recieved_data.count(\"1\")\n",
    "    if(o%2 == 0):                #if even ==> Drop parity bit and accept data\n",
    "        return \"Correct ==> \" + recieved_data[:-1]\n",
    "    else:\n",
    "        return \"Corrupted\"\n",
    "    \n",
    "def Odd_parity_send(orig_data):    \n",
    "    o = orig_data.count(\"1\")      #count the no of 1s\n",
    "    if(o%2 == 0):                 #if odd append 0\n",
    "        return orig_data + \"1\"\n",
    "    else:                         #if even append 1\n",
    "        return orig_data + \"0\"    \n",
    "    \n",
    "def Odd_parity_recieve(recieved_data):\n",
    "    o = recieved_data.count(\"1\")\n",
    "    if(o%2 != 0):                 #if odd ==> Drop parity bit and accept data\n",
    "        return \"Correct ==> \" + recieved_data[:-1]\n",
    "    else:\n",
    "        return \"Corrupted\""
   ]
  },
  {
   "cell_type": "code",
   "execution_count": 2,
   "metadata": {},
   "outputs": [
    {
     "name": "stdout",
     "output_type": "stream",
     "text": [
      "Way of parity checking :\n",
      "1.Even parity\n",
      "2.Odd parity\n",
      "\n",
      "\n",
      "Enter your choice : \n"
     ]
    },
    {
     "ename": "ValueError",
     "evalue": "invalid literal for int() with base 10: ''",
     "output_type": "error",
     "traceback": [
      "\u001b[1;31m---------------------------------------------------------------------------\u001b[0m",
      "\u001b[1;31mValueError\u001b[0m                                Traceback (most recent call last)",
      "\u001b[1;32m<ipython-input-2-806c99f5003a>\u001b[0m in \u001b[0;36m<module>\u001b[1;34m\u001b[0m\n\u001b[0;32m      1\u001b[0m \u001b[0mprint\u001b[0m\u001b[1;33m(\u001b[0m\u001b[1;34m\"Way of parity checking :\\n1.Even parity\\n2.Odd parity\\n\\n\"\u001b[0m\u001b[1;33m)\u001b[0m\u001b[1;33m\u001b[0m\u001b[1;33m\u001b[0m\u001b[0m\n\u001b[1;32m----> 2\u001b[1;33m \u001b[0mchoice\u001b[0m \u001b[1;33m=\u001b[0m \u001b[0mint\u001b[0m\u001b[1;33m(\u001b[0m\u001b[0minput\u001b[0m\u001b[1;33m(\u001b[0m\u001b[1;34m\"Enter your choice : \"\u001b[0m\u001b[1;33m)\u001b[0m\u001b[1;33m)\u001b[0m\u001b[1;33m\u001b[0m\u001b[1;33m\u001b[0m\u001b[0m\n\u001b[0m\u001b[0;32m      3\u001b[0m \u001b[0mdata\u001b[0m \u001b[1;33m=\u001b[0m \u001b[0minput\u001b[0m\u001b[1;33m(\u001b[0m\u001b[1;34m\"Enter the Original data to be sent : \"\u001b[0m\u001b[1;33m)\u001b[0m\u001b[1;33m\u001b[0m\u001b[1;33m\u001b[0m\u001b[0m\n\u001b[0;32m      4\u001b[0m \u001b[1;33m\u001b[0m\u001b[0m\n\u001b[0;32m      5\u001b[0m \u001b[1;32mif\u001b[0m \u001b[0mchoice\u001b[0m \u001b[1;33m==\u001b[0m \u001b[1;36m1\u001b[0m \u001b[1;33m:\u001b[0m\u001b[1;33m\u001b[0m\u001b[1;33m\u001b[0m\u001b[0m\n",
      "\u001b[1;31mValueError\u001b[0m: invalid literal for int() with base 10: ''"
     ]
    }
   ],
   "source": [
    "print(\"Way of parity checking :\\n1.Even parity\\n2.Odd parity\\n\\n\")\n",
    "choice = int(input(\"Enter your choice : \"))\n",
    "data = input(\"Enter the Original data to be sent : \")\n",
    "\n",
    "if choice == 1 :\n",
    "    sent_data = Even_parity_send(data)\n",
    "    print(\"The Data sent is : \" + sent_data)\n",
    "    print(\"The Data recieved is \" + Even_parity_recieve(\"10101010001010\"))   #corrupted data received\n",
    "\n",
    "if choice == 2 :\n",
    "    sent_data = Odd_parity_send(data)\n",
    "    print(\"The Data sent is : \" + sent_data)\n",
    "    print(\"The Data recieved is \" + Odd_parity_recieve(sent_data))   "
   ]
  },
  {
   "cell_type": "markdown",
   "metadata": {},
   "source": [
    "### 2D PARITY"
   ]
  },
  {
   "cell_type": "code",
   "execution_count": 24,
   "metadata": {},
   "outputs": [],
   "source": [
    "#Single parity functions are used again 2D parity checking and modified according to the Requirement\n",
    "\n",
    "def Even_parity_send(orig_data):    \n",
    "    o = orig_data.count(\"1\")\n",
    "    if(o%2 != 0):\n",
    "        return orig_data + \"1\"\n",
    "    else:\n",
    "        return orig_data + \"0\"\n",
    "    \n",
    "def Even_parity_receive(received_data):\n",
    "    o = received_data.count(\"1\")\n",
    "    if(o%2 == 0):\n",
    "        return True\n",
    "    return False\n",
    "    \n",
    "def Odd_parity_send(orig_data):    \n",
    "    o = orig_data.count(\"1\")\n",
    "    if(o%2 == 0): \n",
    "        return orig_data + \"1\"\n",
    "    else:\n",
    "        return orig_data + \"0\"\n",
    "    \n",
    "def Odd_parity_receive(received_data):\n",
    "    o = received_data.count(\"1\")\n",
    "    if(o%2 != 0):\n",
    "        return True\n",
    "    return False"
   ]
  },
  {
   "cell_type": "code",
   "execution_count": 25,
   "metadata": {},
   "outputs": [],
   "source": [
    "#2D parity\n",
    "#Single parity check functions are also used here\n",
    "\n",
    "def twoD_Even_parity_send(orig_data):\n",
    "    part1, part2, part3, part4 = orig_data.split(' ')\n",
    "    s_data = Even_parity_send(part1)+' '+Even_parity_send(part2)+' '+Even_parity_send(part3)+' '+Even_parity_send(part4)\n",
    "    part1, part2, part3, part4 = s_data.split(' ')\n",
    "    part5 = \" \"\n",
    "    for i in range(len(part1)):\n",
    "        temp = \"\"\n",
    "        for j in range(i,len(s_data),10):\n",
    "            temp += s_data[j]\n",
    "        o = temp.count(\"1\")\n",
    "        if (o%2 != 0):\n",
    "            part5 += \"1\"\n",
    "        else:\n",
    "            part5 += \"0\"\n",
    "    s_data+=part5\n",
    "    print(\"\\nThe Data sent from Sender side ==> \" + s_data)\n",
    "    return s_data\n",
    "\n",
    "def twoD_Even_parity_receive(received_data):\n",
    "    part1, part2, part3, part4, part5 = received_data.split(' ')\n",
    "    #rpc ==> Row Parity Check\n",
    "    rpc=(Even_parity_receive(part1) and Even_parity_receive(part2) and Even_parity_receive(part3) and Even_parity_receive(part4)\n",
    "            and Even_parity_receive(part5))\n",
    "    #if Row wise parity is Corret, Let's check Column wise parity\n",
    "    if(rpc):\n",
    "        for i in range(len(part1)):\n",
    "            temp = \"\"\n",
    "            for j in range(i,len(received_data),10):      #Storing Columnwise string in temp\n",
    "                temp += received_data[j]\n",
    "            if (not Even_parity_receive(temp)):\n",
    "                return \"The Received Data is corrupted\"\n",
    "        return \"The Received Data is correct   ==> \" + part1[:-1]+' '+part2[:-1]+' '+part3[:-1]+' '+part4[:-1]\n",
    "\n",
    "    #if Row parity itself is wrong, then No need to check Column parity\n",
    "    return \"The Received Data is corrupted\""
   ]
  },
  {
   "cell_type": "code",
   "execution_count": 26,
   "metadata": {},
   "outputs": [],
   "source": [
    "def twoD_Odd_parity_send(orig_data):\n",
    "    part1, part2, part3, part4 = orig_data.split(' ')\n",
    "    s_data = Odd_parity_send(part1)+' '+Odd_parity_send(part2)+' '+Odd_parity_send(part3)+' '+Odd_parity_send(part4)\n",
    "    part1, part2, part3, part4 = s_data.split(' ')\n",
    "    part5 = \" \"\n",
    "    for i in range(len(part1)):\n",
    "        temp = \"\"\n",
    "        for j in range(i,len(s_data),10):      #Storing Columnwise string in temp\n",
    "            temp += s_data[j]\n",
    "        o = temp.count(\"1\")\n",
    "        if (o%2 == 0):\n",
    "            part5 += \"1\"\n",
    "        else:\n",
    "            part5 += \"0\"\n",
    "    s_data+=part5\n",
    "    print(\"\\nThe Data sent from Sender side ==> \" + s_data)\n",
    "    return s_data\n",
    "    \n",
    "def twoD_Odd_parity_receive(received_data): \n",
    "    \n",
    "    part1, part2, part3, part4, part5 = received_data.split(' ')\n",
    "    \n",
    "    #rpc ==> Row Parity Check\n",
    "    rpc=(Odd_parity_receive(part1) and Odd_parity_receive(part2) and Odd_parity_receive(part3) and Odd_parity_receive(part4)\n",
    "            and Odd_parity_receive(part5))\n",
    "    \n",
    "    #if Row Parities are crt, then let's check Column's parity\n",
    "    if(rpc):     \n",
    "        for i in range(len(part1)):\n",
    "            temp = \"\"\n",
    "            for j in range(i,len(received_data),10):   #Storing Columnwise string in temp\n",
    "                temp += received_data[j]     \n",
    "            if (not Odd_parity_receive(temp)):\n",
    "                return \"The Received Data is corrupted\"\n",
    "            return \"The Received Data is correct   ==> \" + part1[:-1]+' '+part2[:-1]+' '+part3[:-1]+' '+part4[:-1]\n",
    "           \n",
    "    #if Row parity itself is wrong, then No need to check Column parity\n",
    "    return \"The Received Data is corrupted\""
   ]
  },
  {
   "cell_type": "code",
   "execution_count": 31,
   "metadata": {
    "scrolled": false
   },
   "outputs": [
    {
     "name": "stdout",
     "output_type": "stream",
     "text": [
      "Way of parity checking :\n",
      "1.Even parity\n",
      "2.Odd parity\n",
      "\n",
      "Enter your choice : 1\n",
      "\n",
      "Format                                    : xxxxxxxx xxxxxxxx xxxxxxxx xxxxxxxx\n",
      "Enter the 32-bit Original data to be sent : 11001110 10111010 01110010 01010010\n",
      "\n",
      "The Data sent from Sender side ==> 110011101 101110101 011100100 010100101 010101001\n",
      "The Received Data is corrupted\n"
     ]
    }
   ],
   "source": [
    "print(\"Way of parity checking :\\n1.Even parity\\n2.Odd parity\\n\")\n",
    "choice = int(input(\"Enter your choice : \"))\n",
    "print(\"\\nFormat\" + 35*\" \" + \" : xxxxxxxx xxxxxxxx xxxxxxxx xxxxxxxx\")\n",
    "data = input(\"Enter the 32-bit Original data to be sent : \")\n",
    "           \n",
    "if choice == 1 :\n",
    "    sent_data = twoD_Even_parity_send(data)\n",
    "    print(twoD_Even_parity_receive(\"110011100 101101100 011100101 010000100 101010110\"))  #corrupted data received\n",
    "if choice == 2 :\n",
    "    sent_data = twoD_Odd_parity_send(data)\n",
    "    print(twoD_Odd_parity_receive(sent_data))  "
   ]
  },
  {
   "cell_type": "markdown",
   "metadata": {},
   "source": [
    "### CHECKSUM"
   ]
  },
  {
   "cell_type": "code",
   "execution_count": 35,
   "metadata": {},
   "outputs": [],
   "source": [
    "# Check sum\n",
    "def Check_sum_send(orig_data):\n",
    "    part1, part2 = orig_data.split()\n",
    "    part1 = \"0b\" + part1\n",
    "    part2 = \"0b\" + part2\n",
    "    Sum = bin(int(part1,2) + int(part2,2))\n",
    "    if(len(Sum) == 11):\n",
    "        carry = \"0b\" + Sum[2] \n",
    "        c_Sum = Sum[:2] + Sum[3:]\n",
    "        Sum = bin(int(c_Sum,2) + int(carry,2))\n",
    "    while(len(Sum) < 10):\n",
    "        Sum = Sum[:2]+\"0\"+Sum[2:]\n",
    "    Checksum = \"\"\n",
    "    for i in Sum[2:]:\n",
    "        if i == \"0\":\n",
    "            Checksum += \"1\"\n",
    "        if i == \"1\":\n",
    "            Checksum += \"0\"\n",
    "    return part1[2:] + \" \" + part2[2:] + \" \" + Checksum\n",
    "\n",
    "def Check_sum_receive(received_data):\n",
    "    part1, part2, part3 = received_data.split()\n",
    "    part1 = \"0b\" + part1\n",
    "    part2 = \"0b\" + part2\n",
    "    part3 = \"0b\" + part3\n",
    "    Sum = bin(int(part1,2) + int(part2,2) + int(part3,2))\n",
    "    if(len(Sum) == 11):\n",
    "        carry = \"0b\" + Sum[2] \n",
    "        Sum.replace(Sum[2],\"\")\n",
    "        Sum = bin(int(Sum,2) + int(carry,2))\n",
    "    while(len(Sum) < 10):\n",
    "        Sum = Sum[:2]+\"0\"+Sum[2:]\n",
    "    for i in Sum[2:]:\n",
    "        if i == \"1\":\n",
    "            continue\n",
    "        else:\n",
    "            return \"The Received Data is Corrupted\"\n",
    "    return \"The Received Data is correct ==>  \" + part1[2:] + \" \" + part2[2:]\n",
    "        \n"
   ]
  },
  {
   "cell_type": "code",
   "execution_count": 36,
   "metadata": {},
   "outputs": [
    {
     "name": "stdout",
     "output_type": "stream",
     "text": [
      "Format                           : xxxxxxxx xxxxxxxx\n",
      "Enter the 16-bit Data to be sent : 10101001 00111001\n",
      "\n",
      "The Data sent by sender      ==>  10101001 00111001 00011101\n",
      "The Received Data is correct ==>  10101001 00111001\n"
     ]
    }
   ],
   "source": [
    "print(\"Format\" + 26*\" \" + \" : xxxxxxxx xxxxxxxx\")\n",
    "data = input(\"Enter the 16-bit Data to be sent : \")\n",
    "sent_data = Check_sum_send(data)\n",
    "print(\"\\nThe Data sent by sender      ==> \", sent_data)\n",
    "print(Check_sum_receive(\"10101101 00011001 00011101\"))"
   ]
  },
  {
   "cell_type": "markdown",
   "metadata": {},
   "source": [
    "### CYCLIC REDUNDANCY CHECK"
   ]
  },
  {
   "cell_type": "code",
   "execution_count": 32,
   "metadata": {},
   "outputs": [],
   "source": [
    "#CRC\n",
    "\n",
    "def xor(str1,str2):\n",
    "    str3 = \"\"\n",
    "    for i in range(len(str1)):\n",
    "        if (str1[i] == str2[i]):\n",
    "            str3+=\"0\"\n",
    "        else:\n",
    "            str3+=\"1\"\n",
    "    return str3\n",
    "\n",
    "def CRC(dividend,divisor,bits):\n",
    "\n",
    "    k = len(divisor)                # crc bits ==> n bits as divident ==> n+1 bits      \n",
    "    end = len(dividend)-len(divisor)      # no of times xor is applied in division\n",
    "    temp = dividend[:k]\n",
    "    \n",
    "    # xor division is done and next bit appended for further division\n",
    "    for i in range(end):\n",
    "        if(temp[0] == \"1\"):\n",
    "            temp = xor(temp,divisor) + dividend[k+i]\n",
    "            temp = temp[1:]\n",
    "        else:\n",
    "            temp = xor(temp,(bits+1)*\"0\") + dividend[k+i]\n",
    "            temp = temp[1:]\n",
    "            \n",
    "    # the last iteration is done separately as this step alone doesn't take next bit for upcoming division\n",
    "    if(temp[0] == \"1\"):\n",
    "        temp = xor(temp,divisor)\n",
    "        temp = temp[1:]\n",
    "    else:\n",
    "        temp = xor(temp,(bits+1)*\"0\")\n",
    "        temp = temp[1:]\n",
    "    return temp     # crc bits appended from sender side"
   ]
  },
  {
   "cell_type": "code",
   "execution_count": 34,
   "metadata": {
    "scrolled": true
   },
   "outputs": [
    {
     "name": "stdout",
     "output_type": "stream",
     "text": [
      "Enter the original Data to be sent : 100100\n",
      "Enter the Divisor/key              : 1101\n",
      "\n",
      "The Data sent from sender side  ==>  100100001\n",
      "\n",
      "The Data received is corrupted\n"
     ]
    }
   ],
   "source": [
    "data = input(\"Enter the original Data to be sent : \")\n",
    "key  = input(\"Enter the Divisor/key              : \")\n",
    "bits = len(key) - 1\n",
    "\n",
    "#sender\n",
    "data += bits*\"0\"\n",
    "sent_data = data[:-bits] + CRC(data, key, bits)\n",
    "print(\"\\nThe Data sent from sender side  ==> \",sent_data)\n",
    "\n",
    "#receiver\n",
    "if(CRC(\"100101001\", key, bits) == bits*\"0\"):\n",
    "    print(\"\\nThe Data received from receiver side ==> \",sent_data[:-bits])\n",
    "else:\n",
    "    print(\"\\nThe Data received is corrupted\")"
   ]
  },
  {
   "cell_type": "markdown",
   "metadata": {},
   "source": [
    "### HAMMING CODE"
   ]
  },
  {
   "cell_type": "code",
   "execution_count": null,
   "metadata": {},
   "outputs": [],
   "source": []
  }
 ],
 "metadata": {
  "kernelspec": {
   "display_name": "Python 3",
   "language": "python",
   "name": "python3"
  },
  "language_info": {
   "codemirror_mode": {
    "name": "ipython",
    "version": 3
   },
   "file_extension": ".py",
   "mimetype": "text/x-python",
   "name": "python",
   "nbconvert_exporter": "python",
   "pygments_lexer": "ipython3",
   "version": "3.7.6"
  }
 },
 "nbformat": 4,
 "nbformat_minor": 4
}
