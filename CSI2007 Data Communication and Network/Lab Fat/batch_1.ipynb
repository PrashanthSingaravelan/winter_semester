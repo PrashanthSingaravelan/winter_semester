{
 "cells": [
  {
   "cell_type": "code",
   "execution_count": 1,
   "metadata": {},
   "outputs": [],
   "source": [
    "import pandas as pd\n",
    "from pandas import DataFrame"
   ]
  },
  {
   "cell_type": "code",
   "execution_count": 2,
   "metadata": {},
   "outputs": [
    {
     "name": "stdout",
     "output_type": "stream",
     "text": [
      "\n",
      "\n",
      "Routing table for A\n"
     ]
    },
    {
     "data": {
      "text/html": [
       "<div>\n",
       "<style scoped>\n",
       "    .dataframe tbody tr th:only-of-type {\n",
       "        vertical-align: middle;\n",
       "    }\n",
       "\n",
       "    .dataframe tbody tr th {\n",
       "        vertical-align: top;\n",
       "    }\n",
       "\n",
       "    .dataframe thead th {\n",
       "        text-align: right;\n",
       "    }\n",
       "</style>\n",
       "<table border=\"1\" class=\"dataframe\">\n",
       "  <thead>\n",
       "    <tr style=\"text-align: right;\">\n",
       "      <th></th>\n",
       "      <th>To</th>\n",
       "      <th>Cost</th>\n",
       "      <th>Next</th>\n",
       "    </tr>\n",
       "  </thead>\n",
       "  <tbody>\n",
       "    <tr>\n",
       "      <th>0</th>\n",
       "      <td>A</td>\n",
       "      <td>0</td>\n",
       "      <td></td>\n",
       "    </tr>\n",
       "    <tr>\n",
       "      <th>1</th>\n",
       "      <td>B</td>\n",
       "      <td>5</td>\n",
       "      <td></td>\n",
       "    </tr>\n",
       "    <tr>\n",
       "      <th>2</th>\n",
       "      <td>C</td>\n",
       "      <td>14</td>\n",
       "      <td>B</td>\n",
       "    </tr>\n",
       "  </tbody>\n",
       "</table>\n",
       "</div>"
      ],
      "text/plain": [
       "  To  Cost Next\n",
       "0  A     0     \n",
       "1  B     5     \n",
       "2  C    14    B"
      ]
     },
     "metadata": {},
     "output_type": "display_data"
    },
    {
     "name": "stdout",
     "output_type": "stream",
     "text": [
      "\n",
      "\n",
      "Routing table for B\n"
     ]
    },
    {
     "data": {
      "text/html": [
       "<div>\n",
       "<style scoped>\n",
       "    .dataframe tbody tr th:only-of-type {\n",
       "        vertical-align: middle;\n",
       "    }\n",
       "\n",
       "    .dataframe tbody tr th {\n",
       "        vertical-align: top;\n",
       "    }\n",
       "\n",
       "    .dataframe thead th {\n",
       "        text-align: right;\n",
       "    }\n",
       "</style>\n",
       "<table border=\"1\" class=\"dataframe\">\n",
       "  <thead>\n",
       "    <tr style=\"text-align: right;\">\n",
       "      <th></th>\n",
       "      <th>To</th>\n",
       "      <th>Cost</th>\n",
       "      <th>Next</th>\n",
       "    </tr>\n",
       "  </thead>\n",
       "  <tbody>\n",
       "    <tr>\n",
       "      <th>0</th>\n",
       "      <td>A</td>\n",
       "      <td>5</td>\n",
       "      <td></td>\n",
       "    </tr>\n",
       "    <tr>\n",
       "      <th>1</th>\n",
       "      <td>B</td>\n",
       "      <td>0</td>\n",
       "      <td></td>\n",
       "    </tr>\n",
       "    <tr>\n",
       "      <th>2</th>\n",
       "      <td>C</td>\n",
       "      <td>9</td>\n",
       "      <td></td>\n",
       "    </tr>\n",
       "  </tbody>\n",
       "</table>\n",
       "</div>"
      ],
      "text/plain": [
       "  To  Cost Next\n",
       "0  A     5     \n",
       "1  B     0     \n",
       "2  C     9     "
      ]
     },
     "metadata": {},
     "output_type": "display_data"
    },
    {
     "name": "stdout",
     "output_type": "stream",
     "text": [
      "\n",
      "\n",
      "Routing table for C\n"
     ]
    },
    {
     "data": {
      "text/html": [
       "<div>\n",
       "<style scoped>\n",
       "    .dataframe tbody tr th:only-of-type {\n",
       "        vertical-align: middle;\n",
       "    }\n",
       "\n",
       "    .dataframe tbody tr th {\n",
       "        vertical-align: top;\n",
       "    }\n",
       "\n",
       "    .dataframe thead th {\n",
       "        text-align: right;\n",
       "    }\n",
       "</style>\n",
       "<table border=\"1\" class=\"dataframe\">\n",
       "  <thead>\n",
       "    <tr style=\"text-align: right;\">\n",
       "      <th></th>\n",
       "      <th>To</th>\n",
       "      <th>Cost</th>\n",
       "      <th>Next</th>\n",
       "    </tr>\n",
       "  </thead>\n",
       "  <tbody>\n",
       "    <tr>\n",
       "      <th>0</th>\n",
       "      <td>A</td>\n",
       "      <td>14</td>\n",
       "      <td>B</td>\n",
       "    </tr>\n",
       "    <tr>\n",
       "      <th>1</th>\n",
       "      <td>B</td>\n",
       "      <td>9</td>\n",
       "      <td></td>\n",
       "    </tr>\n",
       "    <tr>\n",
       "      <th>2</th>\n",
       "      <td>C</td>\n",
       "      <td>0</td>\n",
       "      <td></td>\n",
       "    </tr>\n",
       "  </tbody>\n",
       "</table>\n",
       "</div>"
      ],
      "text/plain": [
       "  To  Cost Next\n",
       "0  A    14    B\n",
       "1  B     9     \n",
       "2  C     0     "
      ]
     },
     "metadata": {},
     "output_type": "display_data"
    },
    {
     "name": "stdout",
     "output_type": "stream",
     "text": [
      "\n",
      "\n",
      "Available nodes ==> ['A', 'B', 'C']\n",
      "\n",
      "Enter the starting node : B\n",
      "\n",
      "Enter the Destination node : C\n",
      "\n",
      "Optimal path : B ==> C\n"
     ]
    }
   ],
   "source": [
    "graph = {'A':{'B':5,'C':15},\n",
    "         'B':{'A':5,'C':9},\n",
    "         'C':{'A':15,'B':9}\n",
    "        }\n",
    "\n",
    "nodes = list(graph.keys())\n",
    "routing_table = []\n",
    "\n",
    "for p,q in enumerate(nodes):\n",
    "\n",
    "    visited_node = []\n",
    "    not_visited_node_node = nodes.copy()\n",
    "    next_node = len(nodes)*['']\n",
    "\n",
    "    inf = float('inf')\n",
    "    shortest_distance = len(nodes)*[inf]\n",
    "\n",
    "    root_node = q\n",
    "    current_node = q\n",
    "    shortest_distance[ord(current_node)-65] = 0\n",
    "\n",
    "    while True:\n",
    "        for i in list(graph[current_node].keys()):\n",
    "            if i not in visited_node:\n",
    "                if shortest_distance[ord(current_node)-65]+graph[current_node][i] < shortest_distance[ord(i)-65]:\n",
    "                    shortest_distance[ord(i)-65] = shortest_distance[ord(current_node)-65]+graph[current_node][i]\n",
    "                    if current_node != root_node:\n",
    "                        next_node[ord(i)-65] = current_node\n",
    "\n",
    "        visited_node.append(current_node)\n",
    "        not_visited_node_node.remove(current_node)\n",
    "\n",
    "        if len(not_visited_node_node) == 0:\n",
    "            break\n",
    "\n",
    "        unvstd_aasci = [ord(x) for x in not_visited_node_node]\n",
    "        min_value = min([shortest_distance[j-65] for j in unvstd_aasci])\n",
    "        min_index = [j for j,x in enumerate(shortest_distance) if x == min_value]\n",
    "        for j in min_index:\n",
    "            if chr(65+j) in not_visited_node_node:\n",
    "                current_node = chr(65+j)\n",
    "                break\n",
    "\n",
    "    for i in range(len(next_node)):\n",
    "        if next_node[i] == root_node:\n",
    "            next_node[i] = ''\n",
    "\n",
    "    routing_table.append(DataFrame({'To':list(graph.keys()),'Cost':shortest_distance,'Next':next_node}))\n",
    "    \n",
    "    print(f\"\\n\\nRouting table for {root_node}\")\n",
    "    display(routing_table[-1])\n",
    "\n",
    "print(f\"\\n\\nAvailable nodes ==> {nodes}\")\n",
    "\n",
    "\n",
    "start = input(\"\\nEnter the starting node : \")\n",
    "while start not in nodes:\n",
    "    print(\"Invalid Node....Try again\")\n",
    "    start = input(\"Enter the start node : \")\n",
    "    \n",
    "    \n",
    "dest  = input(\"\\nEnter the Destination node : \")\n",
    "while dest not in nodes:\n",
    "    print(\"Invalid Node....Try again\")\n",
    "    dest = input(\"Enter the Destination node : \")\n",
    "\n",
    "    \n",
    "index = ord(start)-65\n",
    "df = routing_table[index]\n",
    "path = []\n",
    "path.append(start)\n",
    "temp = dest\n",
    "while df[df['To'] == temp]['Next'].values[0] != '':\n",
    "    path.insert(1,df[df['To'] == temp]['Next'].values[0])\n",
    "    temp = df[df['To'] == temp]['Next'].values[0]\n",
    "    \n",
    "print(\"\\nOptimal path : \",end =\"\")\n",
    "for i in range(len(path)):\n",
    "    print(path[i],end = \" ==> \")\n",
    "print(dest)"
   ]
  },
  {
   "cell_type": "code",
   "execution_count": 11,
   "metadata": {},
   "outputs": [
    {
     "name": "stdout",
     "output_type": "stream",
     "text": [
      "  To  Cost Next\n",
      "0  A     0     \n",
      "1  B     5     \n",
      "2  C    14    B\n",
      "  To  Cost Next\n",
      "0  A     5     \n",
      "1  B     0     \n",
      "2  C     9     \n",
      "  To  Cost Next\n",
      "0  A    14    B\n",
      "1  B     9     \n",
      "2  C     0     \n"
     ]
    }
   ],
   "source": [
    "for i in routing_table:\n",
    "    print(i)"
   ]
  },
  {
   "cell_type": "code",
   "execution_count": 29,
   "metadata": {
    "scrolled": true
   },
   "outputs": [
    {
     "data": {
      "text/html": [
       "<div>\n",
       "<style scoped>\n",
       "    .dataframe tbody tr th:only-of-type {\n",
       "        vertical-align: middle;\n",
       "    }\n",
       "\n",
       "    .dataframe tbody tr th {\n",
       "        vertical-align: top;\n",
       "    }\n",
       "\n",
       "    .dataframe thead th {\n",
       "        text-align: right;\n",
       "    }\n",
       "</style>\n",
       "<table border=\"1\" class=\"dataframe\">\n",
       "  <thead>\n",
       "    <tr style=\"text-align: right;\">\n",
       "      <th></th>\n",
       "      <th>To</th>\n",
       "      <th>Cost</th>\n",
       "      <th>Next</th>\n",
       "    </tr>\n",
       "  </thead>\n",
       "  <tbody>\n",
       "    <tr>\n",
       "      <th>0</th>\n",
       "      <td>A</td>\n",
       "      <td>0</td>\n",
       "      <td></td>\n",
       "    </tr>\n",
       "    <tr>\n",
       "      <th>1</th>\n",
       "      <td>B</td>\n",
       "      <td>5</td>\n",
       "      <td></td>\n",
       "    </tr>\n",
       "    <tr>\n",
       "      <th>2</th>\n",
       "      <td>C</td>\n",
       "      <td>14</td>\n",
       "      <td>B</td>\n",
       "    </tr>\n",
       "  </tbody>\n",
       "</table>\n",
       "</div>"
      ],
      "text/plain": [
       "  To  Cost Next\n",
       "0  A     0     \n",
       "1  B     5     \n",
       "2  C    14    B"
      ]
     },
     "execution_count": 29,
     "metadata": {},
     "output_type": "execute_result"
    }
   ],
   "source": [
    "routing_table[0]"
   ]
  },
  {
   "cell_type": "code",
   "execution_count": 20,
   "metadata": {},
   "outputs": [
    {
     "ename": "SyntaxError",
     "evalue": "invalid syntax (<ipython-input-20-7d7a15b1ea2b>, line 1)",
     "output_type": "error",
     "traceback": [
      "\u001b[1;36m  File \u001b[1;32m\"<ipython-input-20-7d7a15b1ea2b>\"\u001b[1;36m, line \u001b[1;32m1\u001b[0m\n\u001b[1;33m    [  To  Cost Next\u001b[0m\n\u001b[1;37m              ^\u001b[0m\n\u001b[1;31mSyntaxError\u001b[0m\u001b[1;31m:\u001b[0m invalid syntax\n"
     ]
    }
   ],
   "source": []
  },
  {
   "cell_type": "code",
   "execution_count": null,
   "metadata": {},
   "outputs": [],
   "source": []
  }
 ],
 "metadata": {
  "kernelspec": {
   "display_name": "Python 3",
   "language": "python",
   "name": "python3"
  },
  "language_info": {
   "codemirror_mode": {
    "name": "ipython",
    "version": 3
   },
   "file_extension": ".py",
   "mimetype": "text/x-python",
   "name": "python",
   "nbconvert_exporter": "python",
   "pygments_lexer": "ipython3",
   "version": "3.7.6"
  }
 },
 "nbformat": 4,
 "nbformat_minor": 4
}
